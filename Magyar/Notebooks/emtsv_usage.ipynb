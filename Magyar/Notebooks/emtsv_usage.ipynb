{
 "cells": [
  {
   "cell_type": "markdown",
   "id": "vocational-rough",
   "metadata": {},
   "source": [
    "# emtsv használata Pythonban, segédnotebook"
   ]
  },
  {
   "cell_type": "markdown",
   "id": "facial-given",
   "metadata": {},
   "source": [
    "## Csomagok importálása"
   ]
  },
  {
   "cell_type": "code",
   "execution_count": 1,
   "id": "material-associate",
   "metadata": {},
   "outputs": [],
   "source": [
    "import requests\n",
    "import pandas as pd  # for dataframes\n",
    "from io import StringIO  # for dataframes"
   ]
  },
  {
   "cell_type": "markdown",
   "id": "worth-england",
   "metadata": {},
   "source": [
    "## Pythonban lévő szöveg átadása az emtsvnek"
   ]
  },
  {
   "cell_type": "code",
   "execution_count": 2,
   "id": "internal-antenna",
   "metadata": {},
   "outputs": [
    {
     "data": {
      "text/html": [
       "<div>\n",
       "<style scoped>\n",
       "    .dataframe tbody tr th:only-of-type {\n",
       "        vertical-align: middle;\n",
       "    }\n",
       "\n",
       "    .dataframe tbody tr th {\n",
       "        vertical-align: top;\n",
       "    }\n",
       "\n",
       "    .dataframe thead th {\n",
       "        text-align: right;\n",
       "    }\n",
       "</style>\n",
       "<table border=\"1\" class=\"dataframe\">\n",
       "  <thead>\n",
       "    <tr style=\"text-align: right;\">\n",
       "      <th></th>\n",
       "      <th>form</th>\n",
       "      <th>xpostag</th>\n",
       "    </tr>\n",
       "  </thead>\n",
       "  <tbody>\n",
       "    <tr>\n",
       "      <th>0</th>\n",
       "      <td>Ki</td>\n",
       "      <td>[/Prev]</td>\n",
       "    </tr>\n",
       "    <tr>\n",
       "      <th>1</th>\n",
       "      <td>korán</td>\n",
       "      <td>[/Adv]</td>\n",
       "    </tr>\n",
       "    <tr>\n",
       "      <th>2</th>\n",
       "      <td>kel</td>\n",
       "      <td>[/V][Prs.NDef.3Sg]</td>\n",
       "    </tr>\n",
       "    <tr>\n",
       "      <th>3</th>\n",
       "      <td>,</td>\n",
       "      <td>[Punct]</td>\n",
       "    </tr>\n",
       "    <tr>\n",
       "      <th>4</th>\n",
       "      <td>aranyat</td>\n",
       "      <td>[/N][Acc]</td>\n",
       "    </tr>\n",
       "    <tr>\n",
       "      <th>5</th>\n",
       "      <td>lel</td>\n",
       "      <td>[/V][Prs.NDef.3Sg]</td>\n",
       "    </tr>\n",
       "    <tr>\n",
       "      <th>6</th>\n",
       "      <td>.</td>\n",
       "      <td>[Punct]</td>\n",
       "    </tr>\n",
       "  </tbody>\n",
       "</table>\n",
       "</div>"
      ],
      "text/plain": [
       "      form             xpostag\n",
       "0       Ki             [/Prev]\n",
       "1    korán              [/Adv]\n",
       "2      kel  [/V][Prs.NDef.3Sg]\n",
       "3        ,             [Punct]\n",
       "4  aranyat           [/N][Acc]\n",
       "5      lel  [/V][Prs.NDef.3Sg]\n",
       "6        .             [Punct]"
      ]
     },
     "execution_count": 2,
     "metadata": {},
     "output_type": "execute_result"
    }
   ],
   "source": [
    "text = 'Ki korán kel, aranyat lel.'\n",
    "r = requests.post('http://127.0.0.1:5000/tok/morph/pos', data={'text': text})\n",
    "ana = pd.read_table(StringIO(r.text))\n",
    "ana[['form', 'xpostag']]"
   ]
  },
  {
   "cell_type": "markdown",
   "id": "electric-marina",
   "metadata": {},
   "source": [
    "## UTF8-as fájl használata"
   ]
  },
  {
   "cell_type": "markdown",
   "id": "divine-characteristic",
   "metadata": {},
   "source": [
    "Megjegyzés: nagyon figyeljünk, hogy a kimeneti formátumnál specifikáljuk az UTF8-as enkódolást."
   ]
  },
  {
   "cell_type": "code",
   "execution_count": 3,
   "id": "specific-choice",
   "metadata": {},
   "outputs": [],
   "source": [
    "infile_path = 'resources/Ablonczy_utf8.txt'\n",
    "outfile_path = 'resources/ablonczy_pos.tsv'\n",
    "# always specify UTF8 if input file is UTF8!\n",
    "with open(infile_path, 'r', encoding='UTF8') as infile, open(outfile_path, 'w', encoding='UTF8') as outfile:\n",
    "    r = requests.post('http://127.0.0.1:5000/tok/morph/pos', files={'file': infile})\n",
    "    outfile.write(r.text)"
   ]
  },
  {
   "cell_type": "markdown",
   "id": "honey-killer",
   "metadata": {},
   "source": [
    "## Nem UTF8-as fájl használata"
   ]
  },
  {
   "cell_type": "markdown",
   "id": "funky-private",
   "metadata": {},
   "source": [
    "Ha a Windows hozta létre saját maga a fájlt (például internetről beillesztettünk a Jegyzettömbbe), akkor előfordulhat, hogy alapértelmezett enkódolású fájlunk van. Ekkor üresen hagyhatjuk az `encoding` mezőt, és a Python alapértelmezett enkódolásúként olvassa be.\n",
    "\n",
    "A Python a bejövő fájlt memóriában átkonvertálja UTF8-ra, így a beolvasás után legközelebb már csak a kiírásnál kell figyelnünk az enkódolásra."
   ]
  },
  {
   "cell_type": "code",
   "execution_count": null,
   "id": "opened-dispute",
   "metadata": {},
   "outputs": [],
   "source": [
    "infile_path = 'resources/Ablonczy_notutf8.txt'\n",
    "outfile_path = 'resources/ablonczy_pos.tsv'\n",
    "# input file is NOT utf8, thus we are using the default encoding\n",
    "with open(infile_path, 'r') as infile, open(outfile_path, 'w', encoding='UTF8') as outfile:\n",
    "    r = requests.post('http://127.0.0.1:5000/tok/morph/pos', files={'file': infile})\n",
    "    outfile.write(r.text)"
   ]
  },
  {
   "cell_type": "markdown",
   "id": "humanitarian-heath",
   "metadata": {},
   "source": [
    "# Gyakori példák, problémák"
   ]
  },
  {
   "cell_type": "markdown",
   "id": "sunset-holiday",
   "metadata": {},
   "source": [
    "Importálunk ábrák készítéséhez csomagokat."
   ]
  },
  {
   "cell_type": "code",
   "execution_count": 4,
   "id": "convenient-consent",
   "metadata": {},
   "outputs": [],
   "source": [
    "import pandas as pd\n",
    "import seaborn as sns\n",
    "import matplotlib.pyplot as plt\n",
    "\n",
    "# we set the style to have nicer default plots\n",
    "sns.set_style('darkgrid')"
   ]
  },
  {
   "cell_type": "markdown",
   "id": "joint-arrow",
   "metadata": {},
   "source": [
    "## Hibás fájl kezelése"
   ]
  },
  {
   "cell_type": "markdown",
   "id": "worth-bargain",
   "metadata": {},
   "source": [
    "A bemeneti fájl tartalmaz(hat) extra tabokat, ami hibát fog okozni, hiszen egy-egy oszlop ilyenkor nem 4 széles (azaz 3 tabbal elszeparált mező), hanem szélesebb. Ilyenkor hibára fogunk futni."
   ]
  },
  {
   "cell_type": "code",
   "execution_count": null,
   "id": "departmental-animation",
   "metadata": {},
   "outputs": [],
   "source": [
    "# produces error due to bad file\n",
    "data = pd.read_csv('resources/ablonczy_pos.tsv', delimiter='\\t', encoding='UTF8')"
   ]
  },
  {
   "cell_type": "markdown",
   "id": "adjusted-elizabeth",
   "metadata": {},
   "source": [
    "Megadhatjuk a pandasnak, hogy ugorja át a hibás sorokat, és hogy ne is figyelmeztessen miattuk."
   ]
  },
  {
   "cell_type": "code",
   "execution_count": 16,
   "id": "suburban-ancient",
   "metadata": {},
   "outputs": [],
   "source": [
    "data = pd.read_csv('resources/ablonczy_pos.tsv', delimiter='\\t', encoding='UTF8', error_bad_lines=False, warn_bad_lines=False)"
   ]
  },
  {
   "cell_type": "markdown",
   "id": "satisfied-ceiling",
   "metadata": {},
   "source": [
    "## Nagy fájl beolvasása pandas használata nélkül"
   ]
  },
  {
   "cell_type": "markdown",
   "id": "filled-proceeding",
   "metadata": {},
   "source": [
    "Itt most éppen a tokeneket tesszük egy Python listába, de a határ a csillagos ég."
   ]
  },
  {
   "cell_type": "code",
   "execution_count": 6,
   "id": "proud-dover",
   "metadata": {},
   "outputs": [],
   "source": [
    "infile_path = 'resources/ablonczy_pos.tsv'\n",
    "tokens = []\n",
    "\n",
    "with open(infile_path, 'r', encoding='UTF8') as infile:\n",
    "    for line in infile:\n",
    "        splitted_line = line.strip().split('\\t')\n",
    "        # we KNOW that there are 5 columns since we created the file\n",
    "        if len(splitted_line) != 5:\n",
    "            # we skip to the next line if there are no 5 columns in this line\n",
    "            continue\n",
    "        else:\n",
    "            form, wsafter, anas, lemma, xpostag = splitted_line\n",
    "            tokens.append(form)\n",
    "        "
   ]
  },
  {
   "cell_type": "markdown",
   "id": "settled-chosen",
   "metadata": {},
   "source": [
    "## Gyakorisági táblák készítése pandassal"
   ]
  },
  {
   "cell_type": "markdown",
   "id": "neither-brick",
   "metadata": {},
   "source": [
    "A matplotlib a legsűrűbben használt csomag vizualizálásra, tanulni kell a használatát, de gyors elemzésre a pandason keresztül is elérhető és _barátságos_ a szintaxisa."
   ]
  },
  {
   "cell_type": "code",
   "execution_count": 7,
   "id": "criminal-outside",
   "metadata": {},
   "outputs": [
    {
     "data": {
      "text/plain": [
       "[Punct]                                    28646\n",
       "[/N][Nom]                                  23807\n",
       "[/Adj][Nom]                                18811\n",
       "[/Det|Art.Def]                             17300\n",
       "[/Cnj]                                      9401\n",
       "                                           ...  \n",
       "[/Adj|Pro][Pl][AnP][Nom]                       1\n",
       "[/Supl][/Adj][_Comp/Adj][Poss.3Sg][Nom]        1\n",
       "[/N|Pro][Supe]                                 1\n",
       "[/V][_Caus/V][Inf.3Sg]                         1\n",
       "[/V][Sbjv.Def.2Sg][Punct]                      1\n",
       "Name: xpostag, Length: 940, dtype: int64"
      ]
     },
     "execution_count": 7,
     "metadata": {},
     "output_type": "execute_result"
    }
   ],
   "source": [
    "pos_frequencies = data['xpostag'].value_counts()\n",
    "pos_frequencies"
   ]
  },
  {
   "cell_type": "code",
   "execution_count": 8,
   "id": "valued-basketball",
   "metadata": {},
   "outputs": [
    {
     "data": {
      "image/png": "[encoded data removed]",
      "text/plain": [
       "<Figure size 432x288 with 1 Axes>"
      ]
     },
     "metadata": {},
     "output_type": "display_data"
    }
   ],
   "source": [
    "pos_frequencies.head(10).plot.pie(autopct=\"%.1f%%\")  # we choose the first 10\n",
    "plt.ylabel('')  # not necessary\n",
    "plt.show()  # not necessary "
   ]
  },
  {
   "cell_type": "code",
   "execution_count": 9,
   "id": "adapted-bulletin",
   "metadata": {},
   "outputs": [
    {
     "data": {
      "text/plain": [
       "a                   13246\n",
       ",                   13067\n",
       ".                    8372\n",
       "az                   5142\n",
       "és                   3599\n",
       "                    ...  \n",
       "hószínû                 1\n",
       "Csáky                   1\n",
       "Idõtlenség              1\n",
       "beadványozás            1\n",
       "dokumentum-próza        1\n",
       "Name: lemma, Length: 21930, dtype: int64"
      ]
     },
     "execution_count": 9,
     "metadata": {},
     "output_type": "execute_result"
    }
   ],
   "source": [
    "lemmas_freq = data['lemma'].value_counts()\n",
    "lemmas_freq"
   ]
  },
  {
   "cell_type": "code",
   "execution_count": 10,
   "id": "western-governor",
   "metadata": {},
   "outputs": [
    {
     "data": {
      "image/png": "[encoded data removed]",
      "text/plain": [
       "<Figure size 720x504 with 1 Axes>"
      ]
     },
     "metadata": {},
     "output_type": "display_data"
    }
   ],
   "source": [
    "plt.figure(figsize=(10, 7))\n",
    "lemmas_freq.head(25).plot.bar()\n",
    "plt.yscale('log')\n",
    "plt.xticks(rotation=45, horizontalalignment=\"right\")\n",
    "plt.show()"
   ]
  },
  {
   "cell_type": "code",
   "execution_count": 11,
   "id": "sixth-diversity",
   "metadata": {},
   "outputs": [
    {
     "data": {
      "text/plain": [
       "<AxesSubplot:xlabel='lemma'>"
      ]
     },
     "execution_count": 11,
     "metadata": {},
     "output_type": "execute_result"
    },
    {
     "data": {
      "image/png": "[encoded data removed]",
      "text/plain": [
       "<Figure size 576x288 with 1 Axes>"
      ]
     },
     "metadata": {},
     "output_type": "display_data"
    }
   ],
   "source": [
    "no_punct_freq = data.query('xpostag != \"[Punct]\"').value_counts('lemma')\n",
    "plt.figure(figsize=(8,4))\n",
    "no_punct_freq.head(25).plot.bar(rot=45)"
   ]
  },
  {
   "cell_type": "markdown",
   "id": "tribal-pharmacy",
   "metadata": {},
   "source": [
    "## Több kimenet összefűzése\n",
    "Most éppen mondatokat adunk át, de fájlokkal pontosan ugyanígy működik. Szétvágjuk az első enternél fejlécre és tartalomra a kimenetet, az első fejlécet megtartjuk, a többit meg eldobjuk. A kimenetek végén dupla enter keletkezik, azt levágjuk."
   ]
  },
  {
   "cell_type": "code",
   "execution_count": 12,
   "id": "thirty-nickel",
   "metadata": {
    "tags": []
   },
   "outputs": [],
   "source": [
    "sentences = ['Ki korán kel, aranyat lel.', 'Száz sasszem meg száz sasszem az sok száz sasszem.', 'Jobb egy lúdnyak tíz tyúknyaknál.']\n",
    "output = ''\n",
    "for sentence in sentences:\n",
    "    r = requests.post('http://127.0.0.1:5000/tok/morph/pos', data={'text': sentence})\n",
    "    header, content = r.text.split('\\n', 1)\n",
    "    if output == '':\n",
    "        output += header + '\\n'\n",
    "    output += content"
   ]
  },
  {
   "cell_type": "markdown",
   "id": "unlimited-happening",
   "metadata": {},
   "source": [
    "A feldolgozást tovább lehet láncolni. Ha egy már POS-taggelt szöveget szeretnénk dependenciaelemezni, akkor azt egyszerűen lehet."
   ]
  },
  {
   "cell_type": "code",
   "execution_count": 13,
   "id": "conventional-breath",
   "metadata": {},
   "outputs": [],
   "source": [
    "r = requests.post('http://127.0.0.1:5000/conv-morph/dep', files={'file': output}) "
   ]
  },
  {
   "cell_type": "code",
   "execution_count": 14,
   "id": "interstate-package",
   "metadata": {},
   "outputs": [],
   "source": [
    "table = pd.read_table(StringIO(r.text))"
   ]
  },
  {
   "cell_type": "code",
   "execution_count": 15,
   "id": "serial-exception",
   "metadata": {},
   "outputs": [
    {
     "data": {
      "text/html": [
       "<div>\n",
       "<style scoped>\n",
       "    .dataframe tbody tr th:only-of-type {\n",
       "        vertical-align: middle;\n",
       "    }\n",
       "\n",
       "    .dataframe tbody tr th {\n",
       "        vertical-align: top;\n",
       "    }\n",
       "\n",
       "    .dataframe thead th {\n",
       "        text-align: right;\n",
       "    }\n",
       "</style>\n",
       "<table border=\"1\" class=\"dataframe\">\n",
       "  <thead>\n",
       "    <tr style=\"text-align: right;\">\n",
       "      <th></th>\n",
       "      <th>form</th>\n",
       "      <th>xpostag</th>\n",
       "      <th>id</th>\n",
       "      <th>deprel</th>\n",
       "      <th>head</th>\n",
       "    </tr>\n",
       "  </thead>\n",
       "  <tbody>\n",
       "    <tr>\n",
       "      <th>0</th>\n",
       "      <td>Ki</td>\n",
       "      <td>[/Prev]</td>\n",
       "      <td>1</td>\n",
       "      <td>TLOCY</td>\n",
       "      <td>3</td>\n",
       "    </tr>\n",
       "    <tr>\n",
       "      <th>1</th>\n",
       "      <td>korán</td>\n",
       "      <td>[/Adv]</td>\n",
       "      <td>2</td>\n",
       "      <td>TLOCY</td>\n",
       "      <td>3</td>\n",
       "    </tr>\n",
       "    <tr>\n",
       "      <th>2</th>\n",
       "      <td>kel</td>\n",
       "      <td>[/V][Prs.NDef.3Sg]</td>\n",
       "      <td>3</td>\n",
       "      <td>ROOT</td>\n",
       "      <td>0</td>\n",
       "    </tr>\n",
       "    <tr>\n",
       "      <th>3</th>\n",
       "      <td>,</td>\n",
       "      <td>[Punct]</td>\n",
       "      <td>4</td>\n",
       "      <td>PUNCT</td>\n",
       "      <td>3</td>\n",
       "    </tr>\n",
       "    <tr>\n",
       "      <th>4</th>\n",
       "      <td>aranyat</td>\n",
       "      <td>[/N][Acc]</td>\n",
       "      <td>5</td>\n",
       "      <td>OBJ</td>\n",
       "      <td>6</td>\n",
       "    </tr>\n",
       "    <tr>\n",
       "      <th>5</th>\n",
       "      <td>lel</td>\n",
       "      <td>[/V][Prs.NDef.3Sg]</td>\n",
       "      <td>6</td>\n",
       "      <td>COORD</td>\n",
       "      <td>3</td>\n",
       "    </tr>\n",
       "    <tr>\n",
       "      <th>6</th>\n",
       "      <td>.</td>\n",
       "      <td>[Punct]</td>\n",
       "      <td>7</td>\n",
       "      <td>PUNCT</td>\n",
       "      <td>0</td>\n",
       "    </tr>\n",
       "    <tr>\n",
       "      <th>7</th>\n",
       "      <td>Száz</td>\n",
       "      <td>[/Num][Nom]</td>\n",
       "      <td>1</td>\n",
       "      <td>ATT</td>\n",
       "      <td>2</td>\n",
       "    </tr>\n",
       "    <tr>\n",
       "      <th>8</th>\n",
       "      <td>sasszem</td>\n",
       "      <td>[/N][Nom]</td>\n",
       "      <td>2</td>\n",
       "      <td>ATT</td>\n",
       "      <td>9</td>\n",
       "    </tr>\n",
       "    <tr>\n",
       "      <th>9</th>\n",
       "      <td>meg</td>\n",
       "      <td>[/Cnj]</td>\n",
       "      <td>3</td>\n",
       "      <td>CONJ</td>\n",
       "      <td>2</td>\n",
       "    </tr>\n",
       "    <tr>\n",
       "      <th>10</th>\n",
       "      <td>száz</td>\n",
       "      <td>[/Num][Nom]</td>\n",
       "      <td>4</td>\n",
       "      <td>ATT</td>\n",
       "      <td>5</td>\n",
       "    </tr>\n",
       "    <tr>\n",
       "      <th>11</th>\n",
       "      <td>sasszem</td>\n",
       "      <td>[/N][Nom]</td>\n",
       "      <td>5</td>\n",
       "      <td>COORD</td>\n",
       "      <td>3</td>\n",
       "    </tr>\n",
       "    <tr>\n",
       "      <th>12</th>\n",
       "      <td>az</td>\n",
       "      <td>[/Det|Art.Def]</td>\n",
       "      <td>6</td>\n",
       "      <td>DET</td>\n",
       "      <td>9</td>\n",
       "    </tr>\n",
       "    <tr>\n",
       "      <th>13</th>\n",
       "      <td>sok</td>\n",
       "      <td>[/Num][Nom]</td>\n",
       "      <td>7</td>\n",
       "      <td>ATT</td>\n",
       "      <td>9</td>\n",
       "    </tr>\n",
       "    <tr>\n",
       "      <th>14</th>\n",
       "      <td>száz</td>\n",
       "      <td>[/Num][Nom]</td>\n",
       "      <td>8</td>\n",
       "      <td>ATT</td>\n",
       "      <td>9</td>\n",
       "    </tr>\n",
       "    <tr>\n",
       "      <th>15</th>\n",
       "      <td>sasszem</td>\n",
       "      <td>[/N][Nom]</td>\n",
       "      <td>9</td>\n",
       "      <td>ROOT</td>\n",
       "      <td>0</td>\n",
       "    </tr>\n",
       "    <tr>\n",
       "      <th>16</th>\n",
       "      <td>.</td>\n",
       "      <td>[Punct]</td>\n",
       "      <td>10</td>\n",
       "      <td>PUNCT</td>\n",
       "      <td>0</td>\n",
       "    </tr>\n",
       "    <tr>\n",
       "      <th>17</th>\n",
       "      <td>Jobb</td>\n",
       "      <td>[/Adj][_Comp/Adj][Nom]</td>\n",
       "      <td>1</td>\n",
       "      <td>ATT</td>\n",
       "      <td>3</td>\n",
       "    </tr>\n",
       "    <tr>\n",
       "      <th>18</th>\n",
       "      <td>egy</td>\n",
       "      <td>[/Num][Nom]</td>\n",
       "      <td>2</td>\n",
       "      <td>ATT</td>\n",
       "      <td>3</td>\n",
       "    </tr>\n",
       "    <tr>\n",
       "      <th>19</th>\n",
       "      <td>lúdnyak</td>\n",
       "      <td>[/N][Nom]</td>\n",
       "      <td>3</td>\n",
       "      <td>ROOT</td>\n",
       "      <td>0</td>\n",
       "    </tr>\n",
       "    <tr>\n",
       "      <th>20</th>\n",
       "      <td>tíz</td>\n",
       "      <td>[/Num][Nom]</td>\n",
       "      <td>4</td>\n",
       "      <td>ATT</td>\n",
       "      <td>5</td>\n",
       "    </tr>\n",
       "    <tr>\n",
       "      <th>21</th>\n",
       "      <td>tyúknyaknál</td>\n",
       "      <td>[/N][Ade]</td>\n",
       "      <td>5</td>\n",
       "      <td>OBL</td>\n",
       "      <td>3</td>\n",
       "    </tr>\n",
       "    <tr>\n",
       "      <th>22</th>\n",
       "      <td>.</td>\n",
       "      <td>[Punct]</td>\n",
       "      <td>6</td>\n",
       "      <td>PUNCT</td>\n",
       "      <td>0</td>\n",
       "    </tr>\n",
       "  </tbody>\n",
       "</table>\n",
       "</div>"
      ],
      "text/plain": [
       "           form                 xpostag  id deprel  head\n",
       "0            Ki                 [/Prev]   1  TLOCY     3\n",
       "1         korán                  [/Adv]   2  TLOCY     3\n",
       "2           kel      [/V][Prs.NDef.3Sg]   3   ROOT     0\n",
       "3             ,                 [Punct]   4  PUNCT     3\n",
       "4       aranyat               [/N][Acc]   5    OBJ     6\n",
       "5           lel      [/V][Prs.NDef.3Sg]   6  COORD     3\n",
       "6             .                 [Punct]   7  PUNCT     0\n",
       "7          Száz             [/Num][Nom]   1    ATT     2\n",
       "8       sasszem               [/N][Nom]   2    ATT     9\n",
       "9           meg                  [/Cnj]   3   CONJ     2\n",
       "10         száz             [/Num][Nom]   4    ATT     5\n",
       "11      sasszem               [/N][Nom]   5  COORD     3\n",
       "12           az          [/Det|Art.Def]   6    DET     9\n",
       "13          sok             [/Num][Nom]   7    ATT     9\n",
       "14         száz             [/Num][Nom]   8    ATT     9\n",
       "15      sasszem               [/N][Nom]   9   ROOT     0\n",
       "16            .                 [Punct]  10  PUNCT     0\n",
       "17         Jobb  [/Adj][_Comp/Adj][Nom]   1    ATT     3\n",
       "18          egy             [/Num][Nom]   2    ATT     3\n",
       "19      lúdnyak               [/N][Nom]   3   ROOT     0\n",
       "20          tíz             [/Num][Nom]   4    ATT     5\n",
       "21  tyúknyaknál               [/N][Ade]   5    OBL     3\n",
       "22            .                 [Punct]   6  PUNCT     0"
      ]
     },
     "execution_count": 15,
     "metadata": {},
     "output_type": "execute_result"
    }
   ],
   "source": [
    "table[['form', 'xpostag', 'id', 'deprel', 'head']]"
   ]
  }
 ],
 "metadata": {
  "kernelspec": {
   "display_name": "Python 3",
   "language": "python",
   "name": "python3"
  },
  "language_info": {
   "codemirror_mode": {
    "name": "ipython",
    "version": 3
   },
   "file_extension": ".py",
   "mimetype": "text/x-python",
   "name": "python",
   "nbconvert_exporter": "python",
   "pygments_lexer": "ipython3",
   "version": "3.9.1"
  },
  "toc-showcode": false,
  "toc-showmarkdowntxt": false
 },
 "nbformat": 4,
 "nbformat_minor": 5
}
